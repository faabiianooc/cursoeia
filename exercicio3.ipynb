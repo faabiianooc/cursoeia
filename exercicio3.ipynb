{
 "cells": [
  {
   "cell_type": "code",
   "execution_count": null,
   "metadata": {},
   "outputs": [],
   "source": [
    "from pyspark.sql import SparkSession as spark, functions as func\n",
    "from pyspark.sql.functions import sum as ss\n",
    "\n",
    "spark = spark.builder.config(\"spark.jars\",\"./arquivos/postgresql-42.6.0.jar\").getOrCreate()\n"
   ]
  },
  {
   "cell_type": "code",
   "execution_count": null,
   "metadata": {},
   "outputs": [],
   "source": [
    "dfCliente = spark.read.format(\"jdbc\").option(\"url\",\"jdbc:postgresql://localhost:5432/Vendas\").option(\"dbtable\",\"vendas\").option(\"drive\",\"org.postgresql.Driver\").option(\"user\",\"postgres\").option(\"password\",\"a123456\").load()"
   ]
  },
  {
   "cell_type": "code",
   "execution_count": null,
   "metadata": {},
   "outputs": [],
   "source": [
    "dfCliente.show()"
   ]
  }
 ],
 "metadata": {
  "kernelspec": {
   "display_name": "Python 3",
   "language": "python",
   "name": "python3"
  },
  "language_info": {
   "codemirror_mode": {
    "name": "ipython",
    "version": 3
   },
   "file_extension": ".py",
   "mimetype": "text/x-python",
   "name": "python",
   "nbconvert_exporter": "python",
   "pygments_lexer": "ipython3",
   "version": "3.11.2"
  },
  "orig_nbformat": 4
 },
 "nbformat": 4,
 "nbformat_minor": 2
}
