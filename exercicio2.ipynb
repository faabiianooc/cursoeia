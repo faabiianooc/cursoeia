{
 "cells": [
  {
   "cell_type": "code",
   "execution_count": 10,
   "metadata": {},
   "outputs": [],
   "source": [
    "from pyspark.sql import SparkSession as spark, functions as func\n",
    "from pyspark.sql.functions import sum as ss\n",
    "spark = spark.builder.getOrCreate()\n"
   ]
  },
  {
   "cell_type": "code",
   "execution_count": 22,
   "metadata": {},
   "outputs": [],
   "source": [
    "dfClientes = spark.read.parquet(\"./Atividades/Clientes.parquet\")\n",
    "dfProdutos = spark.read.parquet(\"./Atividades/Produtos.parquet\")\n",
    "dfVendas = spark.read.parquet(\"./Atividades/Vendas.parquet\")\n",
    "dfVendedores = spark.read.parquet(\"./Atividades/Vendedores.parquet\")\n",
    "dfItensVendas = spark.read.parquet(\"./Atividades/ItensVendas.parquet\")"
   ]
  },
  {
   "cell_type": "code",
   "execution_count": 25,
   "metadata": {},
   "outputs": [],
   "source": [
    "#spark.sql(\"create database VendasVarejo\")\n",
    "#spark.sql(\"use VendasVarejo\")\n",
    "\n",
    "dfResposta = dfClientes.join(dfVendas,dfClientes.ClienteID == dfVendas.ClienteID,\"inner\")\n",
    "dfResposta = dfResposta.join(dfItensVendas,dfResposta.VendasID ==dfItensVendas.VendasID,\"inner\")\n",
    "dfResposta = dfResposta.join(dfVendedores,dfResposta.VendedoID ==dfVendedores.VendedorID,\"inner\")\n",
    "dfResposta = dfResposta.join(dfProdutos,dfResposta.ProdutoID == dfProdutos.ProdutoID,\"inner\")\n",
    "dfResposta.select(\"Cliente\",\"Data\",\"Produto\",\"ValorUnitario\")"
   ]
  },
  {
   "cell_type": "code",
   "execution_count": null,
   "metadata": {},
   "outputs": [],
   "source": []
  },
  {
   "cell_type": "code",
   "execution_count": null,
   "metadata": {},
   "outputs": [],
   "source": []
  }
 ],
 "metadata": {
  "kernelspec": {
   "display_name": "Python 3",
   "language": "python",
   "name": "python3"
  },
  "language_info": {
   "codemirror_mode": {
    "name": "ipython",
    "version": 3
   },
   "file_extension": ".py",
   "mimetype": "text/x-python",
   "name": "python",
   "nbconvert_exporter": "python",
   "pygments_lexer": "ipython3",
   "version": "3.11.2"
  },
  "orig_nbformat": 4
 },
 "nbformat": 4,
 "nbformat_minor": 2
}
