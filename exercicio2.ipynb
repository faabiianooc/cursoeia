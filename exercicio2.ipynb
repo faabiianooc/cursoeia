{
 "cells": [
  {
   "cell_type": "code",
   "execution_count": 10,
   "metadata": {},
   "outputs": [],
   "source": [
    "from pyspark.sql import SparkSession as spark, functions as func\n",
    "from pyspark.sql.functions import sum as ss\n",
    "spark = spark.builder.getOrCreate()\n"
   ]
  },
  {
   "cell_type": "code",
   "execution_count": 22,
   "metadata": {},
   "outputs": [],
   "source": [
    "dfClientes = spark.read.parquet(\"./Atividades/Clientes.parquet\")\n",
    "dfProdutos = spark.read.parquet(\"./Atividades/Produtos.parquet\")\n",
    "dfVendas = spark.read.parquet(\"./Atividades/Vendas.parquet\")\n",
    "dfVendedores = spark.read.parquet(\"./Atividades/Vendedores.parquet\")\n",
    "dfItensVendas = spark.read.parquet(\"./Atividades/ItensVendas.parquet\")"
   ]
  },
  {
   "cell_type": "code",
   "execution_count": 28,
   "metadata": {},
   "outputs": [
    {
     "name": "stdout",
     "output_type": "stream",
     "text": [
      "+-----------------+--------+--------------------+-------------+\n",
      "|          Cliente|    Data|             Produto|ValorUnitario|\n",
      "+-----------------+--------+--------------------+-------------+\n",
      "|   Cosme Zambujal|1/1/2019|Bicicleta Altools...|      7820.85|\n",
      "|   Cosme Zambujal|1/1/2019|Bermuda Predactor...|        97.75|\n",
      "|   Cosme Zambujal|1/1/2019|Camiseta Predacto...|        135.0|\n",
      "|Gertrudes Hidalgo|1/1/2020|Luva De Ciclismo ...|        150.4|\n",
      "| Antão Corte-Real|2/1/2020|Capacete Gometws ...|        155.0|\n",
      "| Antão Corte-Real|2/1/2020|Bicicleta Gometws...|       2966.0|\n",
      "| Antão Corte-Real|2/1/2019|Bicicleta Altools...|      7820.85|\n",
      "| Antão Corte-Real|2/1/2019|Bermuda Predactor...|        97.75|\n",
      "| Antão Corte-Real|2/1/2019|Bicicleta Gometws...|       2955.0|\n",
      "| Antão Corte-Real|3/1/2018|Bicicleta Gometws...|       2955.0|\n",
      "| Antão Corte-Real|3/1/2018|Bicicleta Trinc C...|       7658.0|\n",
      "| Antão Corte-Real|3/1/2018|Bicicleta Aro 29 ...|       8852.0|\n",
      "| Antão Corte-Real|3/1/2018|Camiseta Predacto...|        121.5|\n",
      "| Antão Corte-Real|3/1/2018|Bicicleta Gts Adv...|      3255.08|\n",
      "| Antão Corte-Real|4/1/2020|Bicicleta Altools...|       9201.0|\n",
      "| Antão Corte-Real|6/1/2019|Bicicleta Aro 29 ...|       7524.2|\n",
      "|Gertrudes Infante|6/1/2019|Luva De Ciclismo ...|        188.0|\n",
      "|Gertrudes Infante|6/1/2019|Bicicleta Gts Adv...|      3616.75|\n",
      "|Gertrudes Infante|6/1/2019|Camiseta Predacto...|        108.0|\n",
      "|Gertrudes Infante|6/1/2019|Bermuda Predactor...|        115.0|\n",
      "+-----------------+--------+--------------------+-------------+\n",
      "only showing top 20 rows\n",
      "\n"
     ]
    }
   ],
   "source": [
    "#spark.sql(\"create database VendasVarejo\")\n",
    "#spark.sql(\"use VendasVarejo\")\n",
    "\n",
    "dfResposta = dfClientes.join(dfVendas,dfClientes.ClienteID == dfVendas.ClienteID,\"inner\")\n",
    "dfResposta = dfResposta.join(dfItensVendas,dfResposta.VendasID ==dfItensVendas.VendasID,\"inner\")\n",
    "dfResposta = dfResposta.join(dfVendedores,dfResposta.VendedorID ==dfVendedores.VendedorID,\"inner\")\n",
    "dfResposta = dfResposta.join(dfProdutos,dfResposta.ProdutoID == dfProdutos.ProdutoID,\"inner\")\n",
    "dfResposta.select(\"Cliente\",\"Data\",\"Produto\",\"ValorUnitario\").show()"
   ]
  },
  {
   "cell_type": "code",
   "execution_count": null,
   "metadata": {},
   "outputs": [],
   "source": []
  },
  {
   "cell_type": "code",
   "execution_count": null,
   "metadata": {},
   "outputs": [],
   "source": []
  }
 ],
 "metadata": {
  "kernelspec": {
   "display_name": "Python 3",
   "language": "python",
   "name": "python3"
  },
  "language_info": {
   "codemirror_mode": {
    "name": "ipython",
    "version": 3
   },
   "file_extension": ".py",
   "mimetype": "text/x-python",
   "name": "python",
   "nbconvert_exporter": "python",
   "pygments_lexer": "ipython3",
   "version": "3.11.2"
  },
  "orig_nbformat": 4
 },
 "nbformat": 4,
 "nbformat_minor": 2
}
