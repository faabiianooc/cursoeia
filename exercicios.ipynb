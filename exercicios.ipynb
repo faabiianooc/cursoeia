{
 "cells": [
  {
   "cell_type": "code",
   "execution_count": null,
   "metadata": {},
   "outputs": [],
   "source": [
    "from pyspark.sql import SparkSession as spark, functions as func\n"
   ]
  },
  {
   "cell_type": "code",
   "execution_count": null,
   "metadata": {},
   "outputs": [],
   "source": [
    "spark= spark.builder.getOrCreate()\n"
   ]
  },
  {
   "cell_type": "code",
   "execution_count": null,
   "metadata": {},
   "outputs": [],
   "source": [
    "dfClientes = spark.read.parquet(\"./Atividades/Clientes.parquet\")\n",
    "dfProdutos = spark.read.parquet(\"./Atividades/Clientes.parquet\")\n",
    "dfVendas = spark.read.parquet(\"./Atividades/Clientes.parquet\")\n",
    "dfVendedores = spark.read.parquet(\"./Atividades/Clientes.parquet\")\n",
    "dfItensVendas = spark.read.parquet(\"./Atividades/Clientes.parquet\")"
   ]
  },
  {
   "cell_type": "code",
   "execution_count": null,
   "metadata": {},
   "outputs": [],
   "source": [
    "#Exercicio 01\n",
    "dfClientes.select(\"Cliente\",\"Estado\",\"Status\").show()"
   ]
  },
  {
   "cell_type": "code",
   "execution_count": 19,
   "metadata": {},
   "outputs": [
    {
     "name": "stdout",
     "output_type": "stream",
     "text": [
      "+--------------------+------+------+\n",
      "|             Cliente|Estado|Status|\n",
      "+--------------------+------+------+\n",
      "|Adelina Buenaventura|    RJ|Silver|\n",
      "|        Adelino Gago|    RJ|Silver|\n",
      "|     Adolfo Patrício|    PE|Silver|\n",
      "|       Adélio Lisboa|    SE|Silver|\n",
      "|       Adérito Bahía|    MA|Silver|\n",
      "|       Aida Dorneles|    RN|Silver|\n",
      "|   Alarico Quinterno|    AC|Silver|\n",
      "|    Alberto Cezimbra|    AM|Silver|\n",
      "|    Alberto Monsanto|    RN|  Gold|\n",
      "|       Albino Canela|    AC|Silver|\n",
      "|     Alceste Varanda|    RR|Silver|\n",
      "|  Alcides Carvalhais|    RO|Silver|\n",
      "|        Aldo Martins|    GO|Silver|\n",
      "|   Alexandra Tabares|    MG|Silver|\n",
      "|      Alfredo Cotrim|    SC|Silver|\n",
      "|     Almeno Figueira|    SC|Silver|\n",
      "|      Alvito Peralta|    AM|Silver|\n",
      "|     Amadeu Martinho|    RN|Silver|\n",
      "|      Amélia Estévez|    PE|Silver|\n",
      "|           Ana Homem|    RN|Silver|\n",
      "+--------------------+------+------+\n",
      "only showing top 20 rows\n",
      "\n"
     ]
    }
   ],
   "source": [
    "#Exercicio 2\n",
    "dfClientes.select(\"Cliente\",\"Estado\",\"Status\").where((func.col(\"Status\") == \"Gold\") | (func.col(\"Status\")== \"Silver\")).show()\n",
    "\n"
   ]
  },
  {
   "cell_type": "code",
   "execution_count": 27,
   "metadata": {},
   "outputs": [
    {
     "name": "stdout",
     "output_type": "stream",
     "text": [
      "+--------+-----+\n",
      "|  status|count|\n",
      "+--------+-----+\n",
      "|Platinum|    4|\n",
      "|  Silver|  237|\n",
      "|    Gold|    9|\n",
      "+--------+-----+\n",
      "\n"
     ]
    }
   ],
   "source": [
    "dfVendas = dfVendas.withColumnRenamed(\"Status\",\"StatusVenda\")\n",
    "dfCliVendas = dfClientes.join(dfVendas,on=\"ClienteID\")\n",
    "\n",
    "dfCliVendas.groupBy(\"status\").count().show()\n"
   ]
  },
  {
   "cell_type": "code",
   "execution_count": null,
   "metadata": {},
   "outputs": [],
   "source": []
  }
 ],
 "metadata": {
  "kernelspec": {
   "display_name": "Python 3",
   "language": "python",
   "name": "python3"
  },
  "language_info": {
   "codemirror_mode": {
    "name": "ipython",
    "version": 3
   },
   "file_extension": ".py",
   "mimetype": "text/x-python",
   "name": "python",
   "nbconvert_exporter": "python",
   "pygments_lexer": "ipython3",
   "version": "3.11.2"
  },
  "orig_nbformat": 4
 },
 "nbformat": 4,
 "nbformat_minor": 2
}
